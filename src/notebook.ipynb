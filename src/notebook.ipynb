{
 "cells": [
  {
   "cell_type": "markdown",
   "metadata": {},
   "source": [
    "# Apprentissage du ou exclusif\n",
    "\n",
    "On utilise un réseau à une couche cachée contenant 2 neurones"
   ]
  },
  {
   "cell_type": "code",
   "execution_count": 9,
   "metadata": {
    "scrolled": true
   },
   "outputs": [
    {
     "name": "stdout",
     "output_type": "stream",
     "text": [
      "0  oux  0 = 0.0295152892163\n",
      "0  oux  1 = 0.97436893398\n",
      "1  oux  0 = 0.974245155008\n",
      "1  oux  1 = 0.0271207090858\n"
     ]
    },
    {
     "data": {
      "image/png": "[encoded data removed]",
      "text/plain": [
       "<matplotlib.figure.Figure at 0x7f9d2321c8d0>"
      ]
     },
     "metadata": {},
     "output_type": "display_data"
    },
    {
     "data": {
      "image/png": "[encoded data removed]",
      "text/plain": [
       "<matplotlib.figure.Figure at 0x7f9d231addd8>"
      ]
     },
     "metadata": {},
     "output_type": "display_data"
    }
   ],
   "source": [
    "import numpy\n",
    "import matplotlib.pyplot as plt\n",
    "\n",
    "from multilayer import Network\n",
    "\n",
    "entrees = numpy.array([[0,0],[0,1],[1,0],[1,1]])\n",
    "valeurs_cibles = numpy.array([[0],[1],[1],[0]])\n",
    "\n",
    "reseau = Network(2,2,1)\n",
    "iteration = 100000\n",
    "\n",
    "reseau.train(entrees, valeurs_cibles, it=iteration, eta=0.1)\n",
    "\n",
    "for e in entrees:\n",
    "    print(e[0], \" oux \", e[1], \"=\", reseau.feed_forward(e)[0])\n",
    "\n",
    "plt.plot(numpy.linspace(0, iteration, num=iteration),reseau.cost)\n",
    "plt.ylabel('erreur quadratique')\n",
    "plt.xlabel(\"itération\")\n",
    "plt.show()\n",
    "\n",
    "nombre_points = 100\n",
    "x = numpy.linspace(0, 1, num=nombre_points)\n",
    "y = numpy.linspace(0, 1, num= nombre_points)\n",
    "\n",
    "x0, y0, x1, y1 = [], [], [], []\n",
    "\n",
    "for k in range(nombre_points):\n",
    "    for i in range(nombre_points):\n",
    "        if reseau.feed_forward([x[k],y[i]])[0] < 0.5:\n",
    "            x0.append(x[k])\n",
    "            y0.append(y[i])\n",
    "        else:\n",
    "            x1.append(x[k])\n",
    "            y1.append(y[i])\n",
    "\n",
    "plt.scatter(x0, y0, c='red')\n",
    "plt.scatter(x1, y1, c='blue')\n",
    "\n",
    "plt.show()"
   ]
  },
  {
   "cell_type": "code",
   "execution_count": null,
   "metadata": {
    "collapsed": true
   },
   "outputs": [],
   "source": []
  }
 ],
 "metadata": {
  "kernelspec": {
   "display_name": "Python 3",
   "language": "python",
   "name": "python3"
  },
  "language_info": {
   "codemirror_mode": {
    "name": "ipython",
    "version": 3
   },
   "file_extension": ".py",
   "mimetype": "text/x-python",
   "name": "python",
   "nbconvert_exporter": "python",
   "pygments_lexer": "ipython3",
   "version": "3.5.3"
  }
 },
 "nbformat": 4,
 "nbformat_minor": 2
}
