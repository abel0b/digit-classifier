{
 "cells": [
  {
   "cell_type": "markdown",
   "metadata": {},
   "source": [
    "# Apprentissage du ou exclusif\n",
    "\n",
    "On utilise un réseau à une couche cachée contenant 2 perceptron"
   ]
  },
  {
   "cell_type": "code",
   "execution_count": 1,
   "metadata": {},
   "outputs": [
    {
     "name": "stdout",
     "output_type": "stream",
     "text": [
      "1% : 49s restantes\n",
      "2% : 47s restantes\n",
      "3% : 46s restantes\n",
      "4% : 45s restantes\n",
      "5% : 45s restantes\n",
      "6% : 44s restantes\n",
      "7% : 44s restantes\n",
      "8% : 44s restantes\n",
      "9% : 44s restantes\n",
      "10% : 43s restantes\n",
      "11% : 42s restantes\n",
      "12% : 42s restantes\n",
      "13% : 41s restantes\n",
      "14% : 41s restantes\n",
      "15% : 40s restantes\n",
      "16% : 40s restantes\n",
      "17% : 39s restantes\n",
      "18% : 39s restantes\n",
      "19% : 38s restantes\n",
      "20% : 38s restantes\n",
      "21% : 37s restantes\n",
      "22% : 37s restantes\n",
      "23% : 36s restantes\n",
      "24% : 36s restantes\n",
      "25% : 35s restantes\n",
      "26% : 35s restantes\n",
      "27% : 34s restantes\n",
      "28% : 34s restantes\n",
      "29% : 33s restantes\n",
      "30% : 33s restantes\n",
      "31% : 32s restantes\n",
      "32% : 32s restantes\n",
      "33% : 31s restantes\n",
      "34% : 31s restantes\n",
      "35% : 30s restantes\n",
      "36% : 30s restantes\n",
      "37% : 29s restantes\n",
      "38% : 29s restantes\n",
      "39% : 28s restantes\n",
      "40% : 28s restantes\n",
      "41% : 27s restantes\n",
      "42% : 27s restantes\n",
      "43% : 27s restantes\n",
      "44% : 26s restantes\n",
      "45% : 26s restantes\n",
      "46% : 25s restantes\n",
      "47% : 25s restantes\n",
      "48% : 24s restantes\n",
      "49% : 24s restantes\n",
      "50% : 23s restantes\n",
      "51% : 23s restantes\n",
      "52% : 22s restantes\n",
      "53% : 22s restantes\n",
      "54% : 21s restantes\n",
      "55% : 21s restantes\n",
      "56% : 20s restantes\n",
      "57% : 20s restantes\n",
      "58% : 19s restantes\n",
      "59% : 19s restantes\n",
      "60% : 18s restantes\n",
      "61% : 18s restantes\n",
      "62% : 17s restantes\n",
      "63% : 17s restantes\n",
      "64% : 17s restantes\n",
      "65% : 16s restantes\n",
      "66% : 16s restantes\n",
      "67% : 15s restantes\n",
      "68% : 15s restantes\n",
      "69% : 14s restantes\n",
      "70% : 14s restantes\n",
      "71% : 13s restantes\n",
      "72% : 13s restantes\n",
      "73% : 12s restantes\n",
      "74% : 12s restantes\n",
      "75% : 11s restantes\n",
      "76% : 11s restantes\n",
      "77% : 10s restantes\n",
      "78% : 10s restantes\n",
      "79% : 10s restantes\n",
      "80% : 9s restantes\n",
      "81% : 9s restantes\n",
      "82% : 8s restantes\n",
      "83% : 8s restantes\n",
      "84% : 7s restantes\n",
      "85% : 7s restantes\n",
      "86% : 6s restantes\n",
      "87% : 6s restantes\n",
      "88% : 5s restantes\n",
      "89% : 5s restantes\n",
      "90% : 4s restantes\n",
      "91% : 4s restantes\n",
      "92% : 3s restantes\n",
      "93% : 3s restantes\n",
      "94% : 2s restantes\n",
      "95% : 2s restantes\n",
      "96% : 1s restantes\n",
      "97% : 1s restantes\n",
      "98% : 0s restantes\n",
      "99% : 0s restantes\n",
      "0  oux  0 = 0.00369179734917\n",
      "0  oux  1 = 0.994386664558\n",
      "1  oux  0 = 0.994775210557\n",
      "1  oux  1 = 0.00650552168592\n"
     ]
    },
    {
     "data": {
      "image/png": "[encoded data removed]",
      "text/plain": [
       "<matplotlib.figure.Figure at 0x7fb5de052e10>"
      ]
     },
     "metadata": {},
     "output_type": "display_data"
    }
   ],
   "source": [
    "import numpy\n",
    "import matplotlib.pyplot as plt\n",
    "\n",
    "from multilayer import Network\n",
    "\n",
    "entrees = [[0,0],[0,1],[1,0],[1,1]]\n",
    "valeurs_cibles = [[0],[1],[1],[0]]\n",
    "\n",
    "reseau = Network(2,2,1)\n",
    "iteration = 100000\n",
    "\n",
    "reseau.backpropagate(entrees, valeurs_cibles, it=iteration)\n",
    "\n",
    "for e in entrees:\n",
    "    print(e[0], \" oux \", e[1], \"=\", reseau.output(e)[0])\n",
    "    \n",
    "plt.plot(numpy.linspace(0, iteration, num=iteration),reseau.cost)\n",
    "plt.show()\n"
   ]
  },
  {
   "cell_type": "code",
   "execution_count": null,
   "metadata": {
    "collapsed": true
   },
   "outputs": [],
   "source": []
  }
 ],
 "metadata": {
  "kernelspec": {
   "display_name": "Python 3",
   "language": "python",
   "name": "python3"
  },
  "language_info": {
   "codemirror_mode": {
    "name": "ipython",
    "version": 3
   },
   "file_extension": ".py",
   "mimetype": "text/x-python",
   "name": "python",
   "nbconvert_exporter": "python",
   "pygments_lexer": "ipython3",
   "version": "3.5.3"
  }
 },
 "nbformat": 4,
 "nbformat_minor": 2
}
